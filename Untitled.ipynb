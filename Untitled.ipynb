{
 "cells": [
  {
   "cell_type": "code",
   "execution_count": 1,
   "metadata": {},
   "outputs": [
    {
     "name": "stderr",
     "output_type": "stream",
     "text": [
      "/home/edill/miniconda/envs/nikea3/lib/python3.4/importlib/_bootstrap.py:1161: UserWarning: Module bson was already imported from /home/edill/miniconda/envs/nikea3/lib/python3.4/site-packages/bson/__init__.py, but /home/edill/miniconda/envs/nikea3/lib/python3.4/site-packages/mongoengine-0.8.7-py3.4.egg is being added to sys.path\n",
      "  spec.loader.load_module(spec.name)\n"
     ]
    }
   ],
   "source": [
    "from metadatastore.conf import connection_config"
   ]
  },
  {
   "cell_type": "code",
   "execution_count": 2,
   "metadata": {},
   "outputs": [
    {
     "data": {
      "text/plain": [
       "{'database': 'mds',\n",
       " 'host': 'localhost',\n",
       " 'port': 27017,\n",
       " 'timezone': 'US/Eastern'}"
      ]
     },
     "execution_count": 2,
     "output_type": "execute_result",
     "metadata": {}
    }
   ],
   "source": [
    "connection_config"
   ]
  },
  {
   "cell_type": "code",
   "execution_count": 1,
   "metadata": {},
   "outputs": [],
   "source": [
    "from simdb import connection_config\n",
    "import simdb"
   ]
  },
  {
   "cell_type": "code",
   "execution_count": 4,
   "metadata": {},
   "outputs": [],
   "source": [
    "from mongoengine import connect"
   ]
  },
  {
   "cell_type": "code",
   "execution_count": 5,
   "metadata": {},
   "outputs": [
    {
     "data": {
      "text/plain": [
       "MongoClient('localhost', 27017)"
      ]
     },
     "execution_count": 5,
     "output_type": "execute_result",
     "metadata": {}
    }
   ],
   "source": [
    "connect(db=\"simdb\", host=\"localhost\", port=27017, alias=\"simdb\")"
   ]
  },
  {
   "cell_type": "code",
   "execution_count": 1,
   "metadata": {},
   "outputs": [],
   "source": [
    "import simdb\n",
    "from uuid import uuid4\n",
    "import simdb\n",
    "from simdb.odm_templates import AtomicConfig, SimulationParameters\n",
    "from simdb.insert import insert_atom_document, insert_simulation_parameters\n",
    "from simdb.search import find_atomic_config_document\n",
    "import time as ttime\n",
    "import tempfile\n",
    "import ase"
   ]
  },
  {
   "cell_type": "code",
   "execution_count": 2,
   "metadata": {},
   "outputs": [],
   "source": [
    "simdb.ATOM_PATH = tempfile.gettempdir()"
   ]
  },
  {
   "cell_type": "code",
   "execution_count": 3,
   "metadata": {},
   "outputs": [],
   "source": [
    "atoms = ase.Atoms('Au2', [[0, 0, 0], [0, 0, 3]])"
   ]
  },
  {
   "cell_type": "code",
   "execution_count": 4,
   "metadata": {},
   "outputs": [
    {
     "data": {
      "text/plain": [
       "False"
      ]
     },
     "execution_count": 4,
     "output_type": "execute_result",
     "metadata": {}
    }
   ],
   "source": [
    "isinstance(atoms, list)"
   ]
  },
  {
   "cell_type": "code",
   "execution_count": 5,
   "metadata": {},
   "outputs": [],
   "source": [
    "a = insert_atom_document('au2', atoms)"
   ]
  },
  {
   "cell_type": "code",
   "execution_count": 6,
   "metadata": {},
   "outputs": [
    {
     "data": {
      "text/plain": [
       "<AtomicConfig: AtomicConfig object>"
      ]
     },
     "execution_count": 6,
     "output_type": "execute_result",
     "metadata": {}
    }
   ],
   "source": [
    "a"
   ]
  },
  {
   "cell_type": "code",
   "execution_count": 12,
   "metadata": {},
   "outputs": [],
   "source": [
    "ret, = find_atomic_config_document(_id=a.id)"
   ]
  },
  {
   "cell_type": "code",
   "execution_count": 18,
   "metadata": {},
   "outputs": [
    {
     "data": {
      "text/plain": [
       "True"
      ]
     },
     "execution_count": 18,
     "output_type": "execute_result",
     "metadata": {}
    }
   ],
   "source": [
    "ret.file_payload == atoms"
   ]
  },
  {
   "cell_type": "code",
   "execution_count": 21,
   "metadata": {},
   "outputs": [
    {
     "data": {
      "text/plain": [
       "False"
      ]
     },
     "execution_count": 21,
     "output_type": "execute_result",
     "metadata": {}
    }
   ],
   "source": [
    "id(ret.file_payload) == id(atoms)"
   ]
  },
  {
   "cell_type": "code",
   "execution_count": 20,
   "metadata": {},
   "outputs": [
    {
     "data": {
      "text/plain": [
       "140526413673808"
      ]
     },
     "execution_count": 20,
     "output_type": "execute_result",
     "metadata": {}
    }
   ],
   "source": [
    "id(atoms)"
   ]
  },
  {
   "cell_type": "code",
   "execution_count": 10,
   "metadata": {},
   "outputs": [],
   "source": [
    "ret0 = ret[0]"
   ]
  },
  {
   "cell_type": "code",
   "execution_count": 12,
   "metadata": {},
   "outputs": [
    {
     "data": {
      "text/plain": [
       "u'3722284e-657b-4c64-93aa-db1fa855e591'"
      ]
     },
     "execution_count": 12,
     "output_type": "execute_result",
     "metadata": {}
    }
   ],
   "source": [
    "ret0.file_uid"
   ]
  },
  {
   "cell_type": "code",
   "execution_count": 2,
   "metadata": {},
   "outputs": [],
   "source": [
    "file_uid = str(uuid4())\n",
    "a = insert_simulation_parameters('foo', 1, 1, 1, 1)"
   ]
  },
  {
   "cell_type": "code",
   "execution_count": 3,
   "metadata": {},
   "outputs": [
    {
     "data": {
      "text/plain": [
       "<SimulationParameters: SimulationParameters object>"
      ]
     },
     "execution_count": 3,
     "output_type": "execute_result",
     "metadata": {}
    }
   ],
   "source": [
    "a"
   ]
  },
  {
   "cell_type": "code",
   "execution_count": 31,
   "metadata": {},
   "outputs": [
    {
     "data": {
      "text/plain": [
       "ObjectId('5571f7f53892c92cd5b9ca26')"
      ]
     },
     "execution_count": 31,
     "output_type": "execute_result",
     "metadata": {}
    }
   ],
   "source": [
    "a.id"
   ]
  },
  {
   "cell_type": "code",
   "execution_count": 34,
   "metadata": {},
   "outputs": [
    {
     "data": {
      "text/plain": [
       "<SimulationParameters: SimulationParameters object>"
      ]
     },
     "execution_count": 34,
     "output_type": "execute_result",
     "metadata": {}
    }
   ],
   "source": [
    "SimulationParameters.objects(__raw__={'_id': a.id})[0]"
   ]
  },
  {
   "cell_type": "code",
   "execution_count": 4,
   "metadata": {},
   "outputs": [
    {
     "ename": "NameError",
     "evalue": "name 'a' is not defined",
     "output_type": "error",
     "traceback": [
      "\u001b[1;31m---------------------------------------------------------------------------\u001b[0m",
      "\u001b[1;31mNameError\u001b[0m                                 Traceback (most recent call last)",
      "\u001b[1;32m<ipython-input-4-318c9882dace>\u001b[0m in \u001b[0;36m<module>\u001b[1;34m()\u001b[0m\n\u001b[1;32m----> 1\u001b[1;33m \u001b[0ma\u001b[0m\u001b[1;33m.\u001b[0m\u001b[0msave\u001b[0m\u001b[1;33m(\u001b[0m\u001b[1;33m)\u001b[0m\u001b[1;33m\u001b[0m\u001b[0m\n\u001b[0m",
      "\u001b[1;31mNameError\u001b[0m: name 'a' is not defined"
     ]
    }
   ],
   "source": [
    "a.save()"
   ]
  },
  {
   "cell_type": "code",
   "execution_count": 19,
   "metadata": {},
   "outputs": [],
   "source": [
    "dct = {\n",
    "    'thing1': 'a',\n",
    "    'thing3': 'c',\n",
    "    'thing4': 'd',\n",
    "    'thing5': 'e'\n",
    "}\n",
    "\n",
    "def plotting_function(thing1=None, thing2=None, thing3=None, **kwargs):\n",
    "    print('thing1 = %s' % thing1)\n",
    "    print('thing2 = %s' % thing2)\n",
    "    print('thing3 = %s' % thing3)\n",
    "    print('kwargs = {}'.format(kwargs))\n",
    "    \n",
    "plotting_function(**dct)\n",
    "\n",
    "\"\"\"Outputs the following:\n",
    "thing1 = a\n",
    "thing2 = None\n",
    "thing3 = c\n",
    "kwargs = {'thing4': 'd', 'thing5': 'e'}\n",
    "\"\"\""
   ]
  },
  {
   "cell_type": "code",
   "execution_count": 20,
   "metadata": {},
   "outputs": [
    {
     "name": "stdout",
     "output_type": "stream",
     "text": [
      "thing1 = a\n",
      "thing2 = None\n",
      "thing3 = c\n",
      "kwargs = {'thing4': 'd', 'thing5': 'e'}\n"
     ]
    }
   ],
   "source": [
    "plotting_function(**dct)"
   ]
  },
  {
   "cell_type": "code",
   "execution_count": 27,
   "metadata": {},
   "outputs": [
    {
     "ename": "SyntaxError",
     "evalue": "invalid syntax (<ipython-input-27-4a0140a2c988>, line 1)",
     "output_type": "error",
     "traceback": [
      "\u001b[1;36m  File \u001b[1;32m\"<ipython-input-27-4a0140a2c988>\"\u001b[1;36m, line \u001b[1;32m1\u001b[0m\n\u001b[1;33m    from simdb.commands import find_atoms, find_simulation_parameters, ...\u001b[0m\n\u001b[1;37m                                                                         ^\u001b[0m\n\u001b[1;31mSyntaxError\u001b[0m\u001b[1;31m:\u001b[0m invalid syntax\n"
     ]
    }
   ],
   "source": [
    "from simdb.commands import find_atoms, find_simulation_parameters, ...\n",
    "from simdb.odm_templates import Simulation\n",
    "\n",
    "atom = find_atoms(name='EDD_14-75a')\n",
    "params = find_simulation_params(name='CBr4_params')\n",
    "params.T = 100 # K\n",
    "\n",
    "# or you the api that you are going to write\n",
    "simulation = insert_simulation(name='EDD_14-75a', atom=atom, params=params)\n",
    "\n",
    "run_simulation(simulation)"
   ]
  },
  {
   "cell_type": "code",
   "execution_count": null,
   "metadata": {},
   "outputs": [],
   "source": [
    "simulation, = find_simulation(name='EDD_14-75a')\n",
    "simulation.atoms = find_atoms(name=\"EDD_14-75b\")\n",
    "simulation = insert_simulation(name=\"EDD_14-75b\", **simulation)\n",
    "output = run_simulation(simulation)\n",
    "simulation.output = output\n",
    "simulation.save()"
   ]
  },
  {
   "cell_type": "code",
   "execution_count": 4,
   "metadata": {},
   "outputs": [],
   "source": [
    "from filestore.api import insert_datum, insert_resource\n",
    "import tempfile\n",
    "from uuid import uuid4"
   ]
  },
  {
   "cell_type": "code",
   "execution_count": 2,
   "metadata": {},
   "outputs": [],
   "source": [
    "some_file = '/home/edill/magic_data.txt'"
   ]
  },
  {
   "cell_type": "code",
   "execution_count": 3,
   "metadata": {},
   "outputs": [],
   "source": [
    "res = insert_resource(spec='magic_data', resource_path=some_file)"
   ]
  },
  {
   "cell_type": "code",
   "execution_count": null,
   "metadata": {},
   "outputs": [],
   "source": [
    "datum = insert_datum(res, datum_id=str(uuid4()), 1, 2, 3, a='b', c='d')"
   ]
  },
  {
   "cell_type": "code",
   "execution_count": null,
   "metadata": {},
   "outputs": [],
   "source": [
    "class SomeHandler:\n",
    "    def __call__(*args, **kwargs):\n",
    "        arg1 = 1\n",
    "        arg2 = 2\n",
    "        arg3 = 3\n",
    "        kwargs = {'a': 'b', 'c': 'd'}"
   ]
  },
  {
   "cell_type": "code",
   "execution_count": null,
   "metadata": {},
   "outputs": [],
   "source": [
    "retrieve(datum_uid)"
   ]
  }
 ],
 "metadata": {
  "kernelspec": {
   "display_name": "Python 2",
   "language": "python",
   "name": "python2"
  },
  "language_info": {
   "codemirror_mode": {
    "name": "ipython",
    "version": 2.0
   },
   "file_extension": ".py",
   "mimetype": "text/x-python",
   "name": "python",
   "nbconvert_exporter": "python",
   "pygments_lexer": "ipython2",
   "version": "2.7.10"
  }
 },
 "nbformat": 4,
 "nbformat_minor": 0
}